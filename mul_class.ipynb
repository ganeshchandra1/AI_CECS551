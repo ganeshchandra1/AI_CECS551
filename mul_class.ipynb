{
 "cells": [
  {
   "cell_type": "code",
   "execution_count": 39,
   "id": "1a08b858",
   "metadata": {},
   "outputs": [],
   "source": [
    "#loading dataset\n",
    "from tensorflow.keras.datasets import reuters\n",
    "(train_data, train_labels), (test_data, test_labels) = reuters.load_data(\n",
    "    num_words=10000)"
   ]
  },
  {
   "cell_type": "code",
   "execution_count": 40,
   "id": "671f07ba",
   "metadata": {},
   "outputs": [
    {
     "data": {
      "text/plain": [
       "8982"
      ]
     },
     "execution_count": 40,
     "metadata": {},
     "output_type": "execute_result"
    }
   ],
   "source": [
    "len(train_data)"
   ]
  },
  {
   "cell_type": "code",
   "execution_count": 41,
   "id": "a5c9b8bc",
   "metadata": {},
   "outputs": [
    {
     "data": {
      "text/plain": [
       "2246"
      ]
     },
     "execution_count": 41,
     "metadata": {},
     "output_type": "execute_result"
    }
   ],
   "source": [
    "len(test_data)"
   ]
  },
  {
   "cell_type": "code",
   "execution_count": 42,
   "id": "17693c0c",
   "metadata": {},
   "outputs": [
    {
     "data": {
      "text/plain": [
       "[1,\n",
       " 245,\n",
       " 273,\n",
       " 207,\n",
       " 156,\n",
       " 53,\n",
       " 74,\n",
       " 160,\n",
       " 26,\n",
       " 14,\n",
       " 46,\n",
       " 296,\n",
       " 26,\n",
       " 39,\n",
       " 74,\n",
       " 2979,\n",
       " 3554,\n",
       " 14,\n",
       " 46,\n",
       " 4689,\n",
       " 4329,\n",
       " 86,\n",
       " 61,\n",
       " 3499,\n",
       " 4795,\n",
       " 14,\n",
       " 61,\n",
       " 451,\n",
       " 4329,\n",
       " 17,\n",
       " 12]"
      ]
     },
     "execution_count": 42,
     "metadata": {},
     "output_type": "execute_result"
    }
   ],
   "source": [
    "train_data[10]"
   ]
  },
  {
   "cell_type": "code",
   "execution_count": 43,
   "id": "bb6fb404",
   "metadata": {},
   "outputs": [],
   "source": [
    "#encodings->text\n",
    "word_index = reuters.get_word_index()\n",
    "reverse_word_index = dict([(value, key) for (key, value) in word_index.items()])\n",
    "decoded_newswire = \" \".join([reverse_word_index.get(i - 3, \"?\") for i in     train_data[0]])"
   ]
  },
  {
   "cell_type": "code",
   "execution_count": 44,
   "id": "a4ad95a2",
   "metadata": {},
   "outputs": [
    {
     "data": {
      "text/plain": [
       "'? ? ? said as a result of its december acquisition of space co it expects earnings per share in 1987 of 1 15 to 1 30 dlrs per share up from 70 cts in 1986 the company said pretax net should rise to nine to 10 mln dlrs from six mln dlrs in 1986 and rental operation revenues to 19 to 22 mln dlrs from 12 5 mln dlrs it said cash flow per share this year should be 2 50 to three dlrs reuter 3'"
      ]
     },
     "execution_count": 44,
     "metadata": {},
     "output_type": "execute_result"
    }
   ],
   "source": [
    "decoded_newswire"
   ]
  },
  {
   "cell_type": "code",
   "execution_count": 45,
   "id": "079e9247",
   "metadata": {},
   "outputs": [
    {
     "data": {
      "text/plain": [
       "3"
      ]
     },
     "execution_count": 45,
     "metadata": {},
     "output_type": "execute_result"
    }
   ],
   "source": [
    "train_labels[10]"
   ]
  },
  {
   "cell_type": "code",
   "execution_count": 46,
   "id": "f12d3d45",
   "metadata": {},
   "outputs": [],
   "source": [
    "#vectorizing data\n",
    "import numpy as np\n",
    "def vectorize_sequences(sequences,dimension=10000):\n",
    "    results=np.zeros((len(sequences),dimension))\n",
    "    for i,sequence in enumerate(sequences):\n",
    "        for j in sequence:\n",
    "            results[i,j]=1.\n",
    "    return results\n",
    "x_train = vectorize_sequences(train_data)\n",
    "x_test = vectorize_sequences(test_data)"
   ]
  },
  {
   "cell_type": "code",
   "execution_count": 47,
   "id": "ae63dd87",
   "metadata": {},
   "outputs": [],
   "source": [
    "#encoding the labels\n",
    "def to_one_hot(labels, dimension=46):\n",
    "    results = np.zeros((len(labels), dimension))\n",
    "    for i, label in enumerate(labels):\n",
    "        results[i, label] = 1. \n",
    "    return results\n",
    "y_train = to_one_hot(train_labels)\n",
    "y_test = to_one_hot(test_labels) "
   ]
  },
  {
   "cell_type": "code",
   "execution_count": 48,
   "id": "2a8f5206",
   "metadata": {},
   "outputs": [],
   "source": [
    "#defining and compiling the model\n",
    "from tensorflow import keras\n",
    "from tensorflow.keras import layers\n",
    "model = keras.Sequential([\n",
    "    layers.Dense(64, activation=\"relu\"),\n",
    "    layers.Dense(64, activation=\"relu\"),\n",
    "    layers.Dense(46, activation=\"softmax\")\n",
    "])\n",
    "model.compile(optimizer=\"rmsprop\",\n",
    "              loss=\"categorical_crossentropy\",\n",
    "              metrics=[\"accuracy\"])"
   ]
  },
  {
   "cell_type": "code",
   "execution_count": 49,
   "id": "48bcbb1a",
   "metadata": {},
   "outputs": [],
   "source": [
    "#splitting data for validation\n",
    "x_val = x_train[:1000]\n",
    "p_x_train = x_train[1000:]\n",
    "y_val = y_train[:1000]\n",
    "p_y_train = y_train[1000:]"
   ]
  },
  {
   "cell_type": "code",
   "execution_count": 50,
   "id": "9eb69c14",
   "metadata": {},
   "outputs": [
    {
     "name": "stdout",
     "output_type": "stream",
     "text": [
      "Epoch 1/20\n",
      "16/16 [==============================] - 2s 69ms/step - loss: 2.6284 - accuracy: 0.5311 - val_loss: 1.7310 - val_accuracy: 0.6380\n",
      "Epoch 2/20\n",
      "16/16 [==============================] - 1s 38ms/step - loss: 1.4060 - accuracy: 0.7096 - val_loss: 1.3164 - val_accuracy: 0.7260\n",
      "Epoch 3/20\n",
      "16/16 [==============================] - 1s 40ms/step - loss: 1.0346 - accuracy: 0.7848 - val_loss: 1.1614 - val_accuracy: 0.7520\n",
      "Epoch 4/20\n",
      "16/16 [==============================] - 1s 38ms/step - loss: 0.8131 - accuracy: 0.8285 - val_loss: 1.0394 - val_accuracy: 0.7820\n",
      "Epoch 5/20\n",
      "16/16 [==============================] - 1s 39ms/step - loss: 0.6390 - accuracy: 0.8609 - val_loss: 0.9742 - val_accuracy: 0.8000\n",
      "Epoch 6/20\n",
      "16/16 [==============================] - 1s 38ms/step - loss: 0.5087 - accuracy: 0.8946 - val_loss: 0.9370 - val_accuracy: 0.8150\n",
      "Epoch 7/20\n",
      "16/16 [==============================] - 1s 38ms/step - loss: 0.4051 - accuracy: 0.9149 - val_loss: 0.9565 - val_accuracy: 0.7990\n",
      "Epoch 8/20\n",
      "16/16 [==============================] - 1s 35ms/step - loss: 0.3334 - accuracy: 0.9281 - val_loss: 0.9301 - val_accuracy: 0.8170\n",
      "Epoch 9/20\n",
      "16/16 [==============================] - 1s 34ms/step - loss: 0.2738 - accuracy: 0.9384 - val_loss: 0.9237 - val_accuracy: 0.8160\n",
      "Epoch 10/20\n",
      "16/16 [==============================] - 1s 35ms/step - loss: 0.2354 - accuracy: 0.9451 - val_loss: 0.9246 - val_accuracy: 0.8250\n",
      "Epoch 11/20\n",
      "16/16 [==============================] - 1s 34ms/step - loss: 0.1999 - accuracy: 0.9484 - val_loss: 0.9326 - val_accuracy: 0.8190\n",
      "Epoch 12/20\n",
      "16/16 [==============================] - 1s 41ms/step - loss: 0.1816 - accuracy: 0.9516 - val_loss: 0.9167 - val_accuracy: 0.8250\n",
      "Epoch 13/20\n",
      "16/16 [==============================] - 1s 36ms/step - loss: 0.1612 - accuracy: 0.9535 - val_loss: 0.9941 - val_accuracy: 0.8060\n",
      "Epoch 14/20\n",
      "16/16 [==============================] - 1s 36ms/step - loss: 0.1455 - accuracy: 0.9540 - val_loss: 0.9639 - val_accuracy: 0.8170\n",
      "Epoch 15/20\n",
      "16/16 [==============================] - 1s 36ms/step - loss: 0.1436 - accuracy: 0.9545 - val_loss: 1.0538 - val_accuracy: 0.8020\n",
      "Epoch 16/20\n",
      "16/16 [==============================] - 1s 35ms/step - loss: 0.1293 - accuracy: 0.9573 - val_loss: 1.0323 - val_accuracy: 0.8040\n",
      "Epoch 17/20\n",
      "16/16 [==============================] - 1s 35ms/step - loss: 0.1229 - accuracy: 0.9587 - val_loss: 1.0329 - val_accuracy: 0.8190\n",
      "Epoch 18/20\n",
      "16/16 [==============================] - 1s 36ms/step - loss: 0.1199 - accuracy: 0.9577 - val_loss: 1.0602 - val_accuracy: 0.8060\n",
      "Epoch 19/20\n",
      "16/16 [==============================] - 1s 35ms/step - loss: 0.1167 - accuracy: 0.9583 - val_loss: 1.0626 - val_accuracy: 0.8020\n",
      "Epoch 20/20\n",
      "16/16 [==============================] - 1s 34ms/step - loss: 0.1116 - accuracy: 0.9598 - val_loss: 1.1734 - val_accuracy: 0.8050\n"
     ]
    }
   ],
   "source": [
    "#training the model\n",
    "history = model.fit(p_x_train,\n",
    "                    p_y_train,\n",
    "                    epochs=20,\n",
    "                    batch_size=512,\n",
    "                    validation_data=(x_val, y_val))"
   ]
  },
  {
   "cell_type": "code",
   "execution_count": 51,
   "id": "4592fe5e",
   "metadata": {},
   "outputs": [
    {
     "data": {
      "image/png": "[encoded data removed]",
      "text/plain": [
       "<Figure size 640x480 with 1 Axes>"
      ]
     },
     "metadata": {},
     "output_type": "display_data"
    }
   ],
   "source": [
    "import matplotlib.pyplot as plt\n",
    "loss = history.history[\"loss\"]\n",
    "val_loss = history.history[\"val_loss\"]\n",
    "epochs = range(1, len(loss) + 1)\n",
    "plt.plot(epochs, loss, \"bo\", label=\"Training loss\")\n",
    "plt.plot(epochs, val_loss, \"b\", label=\"Validation loss\")\n",
    "plt.title(\"Training and validation loss\")\n",
    "plt.xlabel(\"Epochs\")\n",
    "plt.ylabel(\"Loss\")\n",
    "plt.legend()\n",
    "plt.show()"
   ]
  },
  {
   "cell_type": "code",
   "execution_count": 52,
   "id": "6d3975cc",
   "metadata": {},
   "outputs": [
    {
     "data": {
      "image/png": "[encoded data removed]",
      "text/plain": [
       "<Figure size 640x480 with 1 Axes>"
      ]
     },
     "metadata": {},
     "output_type": "display_data"
    }
   ],
   "source": [
    "plt.clf()                     \n",
    "acc = history.history[\"accuracy\"]\n",
    "val_acc = history.history[\"val_accuracy\"]\n",
    "plt.plot(epochs, acc, \"bo\", label=\"Training accuracy\")\n",
    "plt.plot(epochs, val_acc, \"b\", label=\"Validation accuracy\")\n",
    "plt.title(\"Training and validation accuracy\")\n",
    "plt.xlabel(\"Epochs\")\n",
    "plt.ylabel(\"Accuracy\")\n",
    "plt.legend()\n",
    "plt.show()"
   ]
  },
  {
   "cell_type": "code",
   "execution_count": 54,
   "id": "631e0399",
   "metadata": {},
   "outputs": [
    {
     "name": "stdout",
     "output_type": "stream",
     "text": [
      "Epoch 1/9\n",
      "18/18 [==============================] - 2s 28ms/step - loss: 2.5926 - accuracy: 0.5165\n",
      "Epoch 2/9\n",
      "18/18 [==============================] - 0s 28ms/step - loss: 1.3933 - accuracy: 0.7061\n",
      "Epoch 3/9\n",
      "18/18 [==============================] - 1s 29ms/step - loss: 1.0244 - accuracy: 0.7740\n",
      "Epoch 4/9\n",
      "18/18 [==============================] - 1s 27ms/step - loss: 0.7983 - accuracy: 0.8313\n",
      "Epoch 5/9\n",
      "18/18 [==============================] - 0s 27ms/step - loss: 0.6302 - accuracy: 0.8701\n",
      "Epoch 6/9\n",
      "18/18 [==============================] - 1s 28ms/step - loss: 0.5046 - accuracy: 0.8963\n",
      "Epoch 7/9\n",
      "18/18 [==============================] - 0s 27ms/step - loss: 0.4067 - accuracy: 0.9178\n",
      "Epoch 8/9\n",
      "18/18 [==============================] - 1s 28ms/step - loss: 0.3327 - accuracy: 0.9286\n",
      "Epoch 9/9\n",
      "18/18 [==============================] - 1s 29ms/step - loss: 0.2778 - accuracy: 0.9373\n",
      "71/71 [==============================] - 1s 3ms/step - loss: 0.9340 - accuracy: 0.7925\n"
     ]
    }
   ],
   "source": [
    "#retraining model with 9 epochs to avoid overfitting\n",
    "model = keras.Sequential([\n",
    "    layers.Dense(64, activation=\"relu\"),\n",
    "    layers.Dense(64, activation=\"relu\"),\n",
    "    layers.Dense(46, activation=\"softmax\")\n",
    "])\n",
    "model.compile(optimizer=\"rmsprop\",\n",
    "              loss=\"categorical_crossentropy\",\n",
    "              metrics=[\"accuracy\"])\n",
    "model.fit(x_train,\n",
    "          y_train,\n",
    "          epochs=9,\n",
    "          batch_size=512)\n",
    "results = model.evaluate(x_test, y_test)"
   ]
  },
  {
   "cell_type": "code",
   "execution_count": 55,
   "id": "457f2f0d",
   "metadata": {},
   "outputs": [
    {
     "data": {
      "text/plain": [
       "[0.9340015649795532, 0.7925200462341309]"
      ]
     },
     "execution_count": 55,
     "metadata": {},
     "output_type": "execute_result"
    }
   ],
   "source": [
    "results"
   ]
  },
  {
   "cell_type": "code",
   "execution_count": 56,
   "id": "d61bb0c4",
   "metadata": {},
   "outputs": [
    {
     "data": {
      "text/plain": [
       "0.18432769367764915"
      ]
     },
     "execution_count": 56,
     "metadata": {},
     "output_type": "execute_result"
    }
   ],
   "source": [
    "import copy\n",
    "test_labels_copy = copy.copy(test_labels)\n",
    "np.random.shuffle(test_labels_copy)\n",
    "hits_array = np.array(test_labels) == np.array(test_labels_copy)\n",
    "hits_array.mean()"
   ]
  },
  {
   "cell_type": "code",
   "execution_count": 63,
   "id": "fb06444f",
   "metadata": {},
   "outputs": [
    {
     "name": "stdout",
     "output_type": "stream",
     "text": [
      "71/71 [==============================] - 0s 4ms/step\n"
     ]
    },
    {
     "data": {
      "text/plain": [
       "(46,)"
      ]
     },
     "execution_count": 63,
     "metadata": {},
     "output_type": "execute_result"
    }
   ],
   "source": [
    "predictions = model.predict(x_test)\n",
    "predictions[0].shape"
   ]
  },
  {
   "cell_type": "code",
   "execution_count": 64,
   "id": "94b98184",
   "metadata": {},
   "outputs": [
    {
     "data": {
      "text/plain": [
       "1.0"
      ]
     },
     "execution_count": 64,
     "metadata": {},
     "output_type": "execute_result"
    }
   ],
   "source": [
    "np.sum(predictions[0])"
   ]
  },
  {
   "cell_type": "code",
   "execution_count": 65,
   "id": "3e651efd",
   "metadata": {},
   "outputs": [
    {
     "data": {
      "text/plain": [
       "3"
      ]
     },
     "execution_count": 65,
     "metadata": {},
     "output_type": "execute_result"
    }
   ],
   "source": [
    "np.argmax(predictions[0])"
   ]
  },
  {
   "cell_type": "code",
   "execution_count": 61,
   "id": "73161246",
   "metadata": {},
   "outputs": [
    {
     "name": "stdout",
     "output_type": "stream",
     "text": [
      "Epoch 1/20\n",
      "63/63 [==============================] - 3s 22ms/step - loss: 2.8099 - accuracy: 0.3693 - val_loss: 2.0352 - val_accuracy: 0.5550\n",
      "Epoch 2/20\n",
      "63/63 [==============================] - 1s 17ms/step - loss: 1.6840 - accuracy: 0.5930 - val_loss: 1.5701 - val_accuracy: 0.5960\n",
      "Epoch 3/20\n",
      "63/63 [==============================] - 1s 17ms/step - loss: 1.3627 - accuracy: 0.6352 - val_loss: 1.4595 - val_accuracy: 0.6330\n",
      "Epoch 4/20\n",
      "63/63 [==============================] - 1s 17ms/step - loss: 1.1915 - accuracy: 0.6833 - val_loss: 1.4221 - val_accuracy: 0.6500\n",
      "Epoch 5/20\n",
      "63/63 [==============================] - 1s 17ms/step - loss: 1.0655 - accuracy: 0.7060 - val_loss: 1.3810 - val_accuracy: 0.6640\n",
      "Epoch 6/20\n",
      "63/63 [==============================] - 1s 16ms/step - loss: 0.9629 - accuracy: 0.7328 - val_loss: 1.3253 - val_accuracy: 0.6780\n",
      "Epoch 7/20\n",
      "63/63 [==============================] - 1s 16ms/step - loss: 0.8759 - accuracy: 0.7610 - val_loss: 1.3187 - val_accuracy: 0.6980\n",
      "Epoch 8/20\n",
      "63/63 [==============================] - 1s 17ms/step - loss: 0.7991 - accuracy: 0.7918 - val_loss: 1.3238 - val_accuracy: 0.7060\n",
      "Epoch 9/20\n",
      "63/63 [==============================] - 1s 17ms/step - loss: 0.7375 - accuracy: 0.8079 - val_loss: 1.3260 - val_accuracy: 0.7110\n",
      "Epoch 10/20\n",
      "63/63 [==============================] - 1s 17ms/step - loss: 0.6880 - accuracy: 0.8151 - val_loss: 1.3637 - val_accuracy: 0.7110\n",
      "Epoch 11/20\n",
      "63/63 [==============================] - 1s 17ms/step - loss: 0.6438 - accuracy: 0.8246 - val_loss: 1.4075 - val_accuracy: 0.7170\n",
      "Epoch 12/20\n",
      "63/63 [==============================] - 1s 17ms/step - loss: 0.6061 - accuracy: 0.8339 - val_loss: 1.4533 - val_accuracy: 0.7210\n",
      "Epoch 13/20\n",
      "63/63 [==============================] - 1s 17ms/step - loss: 0.5746 - accuracy: 0.8420 - val_loss: 1.5043 - val_accuracy: 0.7160\n",
      "Epoch 14/20\n",
      "63/63 [==============================] - 1s 17ms/step - loss: 0.5433 - accuracy: 0.8469 - val_loss: 1.5025 - val_accuracy: 0.7210\n",
      "Epoch 15/20\n",
      "63/63 [==============================] - 1s 17ms/step - loss: 0.5196 - accuracy: 0.8544 - val_loss: 1.5958 - val_accuracy: 0.7240\n",
      "Epoch 16/20\n",
      "63/63 [==============================] - 1s 17ms/step - loss: 0.4960 - accuracy: 0.8654 - val_loss: 1.6125 - val_accuracy: 0.7160\n",
      "Epoch 17/20\n",
      "63/63 [==============================] - 1s 17ms/step - loss: 0.4726 - accuracy: 0.8711 - val_loss: 1.6119 - val_accuracy: 0.7210\n",
      "Epoch 18/20\n",
      "63/63 [==============================] - 1s 17ms/step - loss: 0.4555 - accuracy: 0.8736 - val_loss: 1.6616 - val_accuracy: 0.7280\n",
      "Epoch 19/20\n",
      "63/63 [==============================] - 1s 17ms/step - loss: 0.4372 - accuracy: 0.8775 - val_loss: 1.7029 - val_accuracy: 0.7250\n",
      "Epoch 20/20\n",
      "63/63 [==============================] - 1s 17ms/step - loss: 0.4236 - accuracy: 0.8836 - val_loss: 1.7931 - val_accuracy: 0.7140\n"
     ]
    },
    {
     "data": {
      "text/plain": [
       "<keras.callbacks.History at 0x19a5eeafbe0>"
      ]
     },
     "execution_count": 61,
     "metadata": {},
     "output_type": "execute_result"
    }
   ],
   "source": [
    "# the need for large intermediate layers as information gets crammed into 4dimensional representations as specified in second layer which resulted in lower accuracy than previous model\n",
    "model = keras.Sequential([\n",
    "    layers.Dense(64, activation=\"relu\"),\n",
    "    layers.Dense(4, activation=\"relu\"),\n",
    "    layers.Dense(46, activation=\"softmax\")\n",
    "])\n",
    "model.compile(optimizer=\"rmsprop\",\n",
    "              loss=\"categorical_crossentropy\",\n",
    "              metrics=[\"accuracy\"])\n",
    "model.fit(p_x_train,\n",
    "          p_y_train,\n",
    "          epochs=20,\n",
    "          batch_size=128,\n",
    "          validation_data=(x_val, y_val))"
   ]
  },
  {
   "cell_type": "code",
   "execution_count": null,
   "id": "50217f4e",
   "metadata": {},
   "outputs": [],
   "source": []
  }
 ],
 "metadata": {
  "kernelspec": {
   "display_name": "Python 3 (ipykernel)",
   "language": "python",
   "name": "python3"
  },
  "language_info": {
   "codemirror_mode": {
    "name": "ipython",
    "version": 3
   },
   "file_extension": ".py",
   "mimetype": "text/x-python",
   "name": "python",
   "nbconvert_exporter": "python",
   "pygments_lexer": "ipython3",
   "version": "3.9.13"
  }
 },
 "nbformat": 4,
 "nbformat_minor": 5
}
